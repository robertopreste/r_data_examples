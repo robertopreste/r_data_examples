{
 "cells": [
  {
   "cell_type": "markdown",
   "metadata": {},
   "source": [
    "\n",
    "From the book (chapter 14.5):\n",
    "\n",
    ">The US Federal Election Commission publishes data on contributions to political campaigns. This includes contributor names, occupation and employer, address, and contribution amount. An interesting dataset is from the 2012 US presidential election.\n",
    "\n",
    "___\n",
    "\n"
   ]
  },
  {
   "cell_type": "code",
   "execution_count": null,
   "metadata": {
    "Rmd_chunk_options": "results='hide', message=FALSE, warning=FALSE",
    "autoscroll": false,
    "collapsed": true
   },
   "outputs": [],
   "source": [
    "library(tidyverse)\n",
    "library(magrittr)"
   ]
  },
  {
   "cell_type": "markdown",
   "metadata": {},
   "source": [
    "\n",
    "___\n",
    "\n",
    "## Loading the data\n",
    "\n",
    "This is a version of the above-mentioned dataset downloaded in June 2012.\n",
    "\n"
   ]
  },
  {
   "cell_type": "code",
   "execution_count": null,
   "metadata": {
    "Rmd_chunk_options": "message=FALSE",
    "autoscroll": false,
    "collapsed": true
   },
   "outputs": [],
   "source": [
    "fec <- read_csv(\"../datasets/fec/P00000001-ALL.csv\")"
   ]
  },
  {
   "cell_type": "code",
   "execution_count": null,
   "metadata": {
    "autoscroll": false,
    "collapsed": true
   },
   "outputs": [],
   "source": [
    "fec"
   ]
  },
  {
   "cell_type": "markdown",
   "metadata": {},
   "source": [
    "\n",
    "We can add another column to report if the candidate is a Republican or Democrat. In order to do that, we will simply add `\"Democrat\"` to every Barack Obama entry, and `\"Republican\"` to all the others.\n",
    "\n"
   ]
  },
  {
   "cell_type": "code",
   "execution_count": null,
   "metadata": {
    "autoscroll": false,
    "collapsed": true
   },
   "outputs": [],
   "source": [
    "fec %<>%\n",
    "    mutate(party = case_when(cand_nm == \"Obama, Barack\" ~ \"Democrat\",\n",
    "                             TRUE ~ \"Republican\"))"
   ]
  },
  {
   "cell_type": "markdown",
   "metadata": {},
   "source": [
    "\n",
    "Let's restrict the dataset to only positive contributions, removing refunds.\n",
    "\n"
   ]
  },
  {
   "cell_type": "code",
   "execution_count": null,
   "metadata": {
    "autoscroll": false,
    "collapsed": true
   },
   "outputs": [],
   "source": [
    "fec %<>%\n",
    "    filter(contb_receipt_amt > 0)"
   ]
  },
  {
   "cell_type": "code",
   "execution_count": null,
   "metadata": {
    "autoscroll": false,
    "collapsed": true
   },
   "outputs": [],
   "source": [
    "fec"
   ]
  },
  {
   "cell_type": "markdown",
   "metadata": {},
   "source": [
    "\n",
    "\n",
    "## Donation statistics by Occupation and Employer\n",
    "\n",
    "Let's see if there is any trend of donations amount based on donators occupation and employer.\n",
    "\n"
   ]
  },
  {
   "cell_type": "code",
   "execution_count": null,
   "metadata": {
    "autoscroll": false,
    "collapsed": true
   },
   "outputs": [],
   "source": [
    "fec %>%\n",
    "    group_by(contbr_occupation) %>%\n",
    "    summarise(count = n()) %>%\n",
    "    arrange(desc(count))"
   ]
  },
  {
   "cell_type": "code",
   "execution_count": null,
   "metadata": {
    "autoscroll": false,
    "collapsed": true
   },
   "outputs": [],
   "source": [
    "fec %>%\n",
    "    group_by(contbr_employer) %>%\n",
    "    summarise(count = n()) %>%\n",
    "    arrange(desc(count))"
   ]
  },
  {
   "cell_type": "markdown",
   "metadata": {},
   "source": [
    "\n",
    "We should clean a bit these data, because some of them refer to the same type of employment but are encoded differently.\n",
    "\n"
   ]
  },
  {
   "cell_type": "code",
   "execution_count": null,
   "metadata": {
    "autoscroll": false,
    "collapsed": true
   },
   "outputs": [],
   "source": [
    "fec %<>% mutate_if(is_character, str_replace_all,\n",
    "                   pattern = \"INFORMATION REQUESTED PER BEST EFFORTS\",\n",
    "                   replacement = \"NOT PROVIDED\")\n",
    "fec %<>% mutate_if(is_character, str_replace_all,\n",
    "                   pattern = \"INFORMATION REQUESTED\",\n",
    "                   replacement = \"NOT PROVIDED\")\n",
    "fec %<>% mutate_if(is_character, str_replace_all,\n",
    "                   pattern = \"INFORMATION REQUESTED (BEST EFFORTS)\",\n",
    "                   replacement = \"NOT PROVIDED\")\n",
    "fec %<>% mutate_if(is_character, str_replace_all,\n",
    "                   pattern = \"^NONE$\",\n",
    "                   replacement = \"NOT PROVIDED\")\n",
    "fec %<>% mutate_if(is_character, str_replace_all,\n",
    "                   pattern = \"^REFUSED$\",\n",
    "                   replacement = \"NOT PROVIDED\")\n",
    "fec %<>% mutate_if(is_character, str_replace_all,\n",
    "                   pattern = \"^REQUESTED$\",\n",
    "                   replacement = \"NOT PROVIDED\")\n",
    "fec %<>% replace_na(list(contbr_employer = \"NOT PROVIDED\",\n",
    "                         contbr_occupation = \"NOT PROVIDED\"))\n",
    "fec %<>% mutate_if(is_character, str_replace_all,\n",
    "                   pattern = \"^N/A$\",\n",
    "                   replacement = \"NOT PROVIDED\")\n",
    "fec %<>% mutate_if(is_character, str_replace_all,\n",
    "                   pattern = \"^C.E.O.$\",\n",
    "                   replacement = \"CEO\")\n",
    "fec %<>% mutate_if(is_character, str_replace_all,\n",
    "                   pattern = \"^RN$\",\n",
    "                   replacement = \"REGISTERED NURSE\")\n",
    "fec %<>% mutate_if(is_character, str_replace_all,\n",
    "                   pattern = \"^R.N.$\",\n",
    "                   replacement = \"REGISTERED NURSE\")\n",
    "fec %<>% mutate_if(is_character, str_replace_all,\n",
    "                   pattern = \"^UNEMPLOYED$\",\n",
    "                   replacement = \"NOT EMPLOYED\")\n",
    "fec %<>% mutate_if(is_character, str_replace_all,\n",
    "                   pattern = \"^SELF$\",\n",
    "                   replacement = \"SELF-EMPLOYED\")\n",
    "fec %<>% mutate_if(is_character, str_replace_all,\n",
    "                   pattern = \"SELF EMPLOYED\",\n",
    "                   replacement = \"SELF-EMPLOYED\")"
   ]
  },
  {
   "cell_type": "code",
   "execution_count": null,
   "metadata": {
    "autoscroll": false,
    "collapsed": true
   },
   "outputs": [],
   "source": [
    "fec %>%\n",
    "    group_by(contbr_occupation) %>%\n",
    "    summarise(count = n()) %>%\n",
    "    arrange(desc(count))"
   ]
  },
  {
   "cell_type": "code",
   "execution_count": null,
   "metadata": {
    "autoscroll": false,
    "collapsed": true
   },
   "outputs": [],
   "source": [
    "fec %>%\n",
    "    group_by(contbr_employer) %>%\n",
    "    summarise(count = n()) %>%\n",
    "    arrange(desc(count))"
   ]
  },
  {
   "cell_type": "markdown",
   "metadata": {},
   "source": [
    "\n",
    "After this cleaning, let's create another dataset where we remove all candidates but Barack Obama and Mitt Romney, the main two candidates for this election.\n",
    "\n"
   ]
  },
  {
   "cell_type": "code",
   "execution_count": null,
   "metadata": {
    "autoscroll": false,
    "collapsed": true
   },
   "outputs": [],
   "source": [
    "fec_mrbo <- fec %>%\n",
    "    filter(cand_nm %in% c(\"Obama, Barack\", \"Romney, Mitt\"))"
   ]
  },
  {
   "cell_type": "code",
   "execution_count": null,
   "metadata": {
    "autoscroll": false,
    "collapsed": true
   },
   "outputs": [],
   "source": [
    "fec_mrbo"
   ]
  },
  {
   "cell_type": "markdown",
   "metadata": {},
   "source": [
    "\n",
    "\n",
    "Now we can aggregate the data by occupation and party, and further filter it to keep only occupations that donated over $2 million.\n",
    "\n"
   ]
  },
  {
   "cell_type": "code",
   "execution_count": null,
   "metadata": {
    "autoscroll": false,
    "collapsed": true
   },
   "outputs": [],
   "source": [
    "by_occupation <- fec %>%\n",
    "    group_by(contbr_occupation, party) %>%\n",
    "    summarise(donations = sum(contb_receipt_amt))"
   ]
  },
  {
   "cell_type": "code",
   "execution_count": null,
   "metadata": {
    "autoscroll": false,
    "collapsed": true
   },
   "outputs": [],
   "source": [
    "over_2mm <- by_occupation %>%\n",
    "    filter(donations >= 2000000)"
   ]
  },
  {
   "cell_type": "markdown",
   "metadata": {},
   "source": [
    "\n",
    "Let's view these data.\n",
    "\n"
   ]
  },
  {
   "cell_type": "code",
   "execution_count": null,
   "metadata": {
    "Rmd_chunk_options": "dpi=200",
    "autoscroll": false,
    "collapsed": true
   },
   "outputs": [],
   "source": [
    "over_2mm %>%\n",
    "    ggplot(aes(x = reorder(contbr_occupation, donations))) +\n",
    "    geom_col(aes(y = donations, fill = party), position = \"dodge\") +\n",
    "    coord_flip() +\n",
    "    labs(x = \"Occupation\", y = \"Donations (US$)\", fill = \"Party\",\n",
    "         title = \"Total donations by party per occupation\") +\n",
    "    theme(legend.position = c(0.9, 0.14),\n",
    "          legend.background = element_rect(fill = \"transparent\"))"
   ]
  },
  {
   "cell_type": "markdown",
   "metadata": {},
   "source": [
    "\n",
    "Now we might be interested in aggregating these data by candidate name and occupation or employer, to find the top 10 occupations and employers who donated to the two candidates.\n",
    "\n"
   ]
  },
  {
   "cell_type": "code",
   "execution_count": null,
   "metadata": {
    "autoscroll": false,
    "collapsed": true
   },
   "outputs": [],
   "source": [
    "occupation_grouped <- fec_mrbo %>%\n",
    "    group_by(cand_nm, contbr_occupation) %>%\n",
    "    summarise(donations = sum(contb_receipt_amt))\n",
    "top_10_occup <- top_n(occupation_grouped, 10, donations)"
   ]
  },
  {
   "cell_type": "code",
   "execution_count": null,
   "metadata": {
    "autoscroll": false,
    "collapsed": true
   },
   "outputs": [],
   "source": [
    "employer_grouped <- fec_mrbo %>%\n",
    "    group_by(cand_nm, contbr_employer) %>%\n",
    "    summarise(donations = sum(contb_receipt_amt))\n",
    "top_10_empl <- top_n(employer_grouped, 10, donations)"
   ]
  },
  {
   "cell_type": "markdown",
   "metadata": {},
   "source": [
    "\n",
    "Let's now visualize these two sets.\n",
    "\n"
   ]
  },
  {
   "cell_type": "code",
   "execution_count": null,
   "metadata": {
    "Rmd_chunk_options": "dpi=200",
    "autoscroll": false,
    "collapsed": true
   },
   "outputs": [],
   "source": [
    "top_10_occup %>%\n",
    "    ggplot(aes(x = reorder(contbr_occupation, donations))) +\n",
    "    geom_col(aes(y = donations, fill = cand_nm), position = \"dodge\") +\n",
    "    coord_flip() +\n",
    "    labs(x = \"Occupation\", y = \"Donations (US$)\", fill = \"Candidate\",\n",
    "         title = \"Top 10 donating occupations\") +\n",
    "    theme(legend.position = c(0.88, 0.14),\n",
    "          legend.background = element_rect(fill = \"transparent\"))"
   ]
  },
  {
   "cell_type": "code",
   "execution_count": null,
   "metadata": {
    "Rmd_chunk_options": "dpi=200",
    "autoscroll": false,
    "collapsed": true
   },
   "outputs": [],
   "source": [
    "top_10_empl %>%\n",
    "    ggplot(aes(x = reorder(contbr_employer, donations))) +\n",
    "    geom_col(aes(y = donations, fill = cand_nm), position = \"dodge\") +\n",
    "    coord_flip() +\n",
    "    labs(x = \"Employer\", y = \"Donations (US$)\", fill = \"Candidate\",\n",
    "         title = \"Top 10 donating employers\") +\n",
    "    theme(legend.position = c(0.86, 0.14),\n",
    "          legend.background = element_rect(fill = \"transparent\"))"
   ]
  },
  {
   "cell_type": "markdown",
   "metadata": {},
   "source": [
    "\n",
    "\n",
    "## Bucketing donation amounts\n",
    "\n",
    "We can discretize the contribution amounts into bins describing the contribution size.\n",
    "\n"
   ]
  },
  {
   "cell_type": "code",
   "execution_count": null,
   "metadata": {
    "autoscroll": false,
    "collapsed": true
   },
   "outputs": [],
   "source": [
    "fec_mrbo %<>%\n",
    "    mutate(contb_bin = cut(contb_receipt_amt,\n",
    "                           breaks = c(0, 1, 10, 100, 1000, 10000, 100000, 1000000, 10000000)))"
   ]
  },
  {
   "cell_type": "markdown",
   "metadata": {},
   "source": [
    "\n",
    "Now it is possible to aggregate these data by candidate and contribution bin, to get a histogram by donation size.\n",
    "\n"
   ]
  },
  {
   "cell_type": "code",
   "execution_count": null,
   "metadata": {
    "autoscroll": false,
    "collapsed": true
   },
   "outputs": [],
   "source": [
    "contrib_grouped <- fec_mrbo %>%\n",
    "    group_by(contb_bin, cand_nm) %>%\n",
    "    summarise(donations = n()) %>%\n",
    "    mutate(donation_perc = donations / sum(donations))"
   ]
  },
  {
   "cell_type": "code",
   "execution_count": null,
   "metadata": {
    "autoscroll": false,
    "collapsed": true
   },
   "outputs": [],
   "source": [
    "contrib_grouped"
   ]
  },
  {
   "cell_type": "code",
   "execution_count": null,
   "metadata": {
    "Rmd_chunk_options": "dpi=200",
    "autoscroll": false,
    "collapsed": true
   },
   "outputs": [],
   "source": [
    "contrib_grouped %>%\n",
    "    filter(donation_perc != 1.0) %>%\n",
    "    ggplot(aes(x = contb_bin)) +\n",
    "    geom_col(aes(y = donation_perc, fill = cand_nm), position = \"dodge\") +\n",
    "    coord_flip() +\n",
    "    labs(x = \"Donation bins\", y = \"Percentage of donations\", fill = \"Candidate\",\n",
    "         title = \"Percentage of donations received per each donation size\") +\n",
    "    scale_x_discrete(labels = c(\"(0, 1]\", \"(1, 10]\", \"(10, 100]\", \"(100, 1000]\", \"(1000, 10000]\", \"(10000, 100000]\")) +\n",
    "    scale_y_continuous(breaks = c(0.0, 0.2, 0.4, 0.6, 0.8)) +\n",
    "    theme(legend.position = c(0.88, 0.88),\n",
    "          legend.background = element_rect(fill = \"transparent\"))"
   ]
  },
  {
   "cell_type": "markdown",
   "metadata": {},
   "source": [
    "\n",
    "\n",
    "## Donation statistics by State\n",
    "\n",
    "Let's aggregate the data by candidate name and state.\n",
    "\n"
   ]
  },
  {
   "cell_type": "code",
   "execution_count": null,
   "metadata": {
    "autoscroll": false,
    "collapsed": true
   },
   "outputs": [],
   "source": [
    "state_grouped <- fec_mrbo %>%\n",
    "    group_by(contbr_st, cand_nm) %>%\n",
    "    summarise(donations = sum(contb_receipt_amt)) %>%\n",
    "    mutate(donation_perc = donations / sum(donations))"
   ]
  },
  {
   "cell_type": "code",
   "execution_count": null,
   "metadata": {
    "autoscroll": false,
    "collapsed": true
   },
   "outputs": [],
   "source": [
    "state_grouped"
   ]
  },
  {
   "cell_type": "markdown",
   "metadata": {},
   "source": [
    "\n",
    "And finally a (quite messy) visualization of these data.\n",
    "\n"
   ]
  },
  {
   "cell_type": "code",
   "execution_count": null,
   "metadata": {
    "Rmd_chunk_options": "fig.height=3, dpi=200",
    "autoscroll": false,
    "collapsed": true
   },
   "outputs": [],
   "source": [
    "state_grouped %>%\n",
    "    filter(donation_perc != 1.0, donation_perc >= 0.1, donation_perc <= 0.9) %>%\n",
    "    ggplot(aes(x = contbr_st)) +\n",
    "    geom_col(aes(y = donation_perc, fill = cand_nm), position = \"dodge\") +\n",
    "    coord_flip() +\n",
    "    labs(x = \"US State\", y = \"Percentage of donations\", fill = \"Candidate\",\n",
    "         title = \"Percentage of donations by state\") +\n",
    "    theme(legend.position = c(0.92, 0.56),\n",
    "          legend.background = element_rect(fill = \"transparent\"))"
   ]
  },
  {
   "cell_type": "markdown",
   "metadata": {},
   "source": [
    "\n",
    "___\n",
    "\n"
   ]
  },
  {
   "cell_type": "code",
   "execution_count": null,
   "metadata": {
    "autoscroll": false,
    "collapsed": true
   },
   "outputs": [],
   "source": [
    "sessionInfo()"
   ]
  },
  {
   "cell_type": "markdown",
   "metadata": {},
   "source": [
    "\n"
   ]
  }
 ],
 "metadata": {
  "Rmd_header": {
   "author": "Roberto Preste",
   "date": "`r Sys.Date()`",
   "editor_options": {
    "chunk_output_type": "inline"
   },
   "output": "github_document",
   "title": "2012 Federal Election Commission Database"
  },
  "kernelspec": {
   "display_name": "R",
   "language": "R",
   "name": "ir"
  },
  "language_info": {
   "codemirror_mode": "r",
   "file_extension": ".r",
   "mimetype": "text/x-r-source",
   "name": "R",
   "pygments_lexer": "r"
  }
 },
 "nbformat": 4,
 "nbformat_minor": 0
}
