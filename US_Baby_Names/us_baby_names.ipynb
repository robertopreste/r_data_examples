{
 "cells": [
  {
   "cell_type": "markdown",
   "metadata": {},
   "source": [
    "\n",
    "From the book (chapter 14.3):\n",
    "\n",
    ">The United States Social Security Administration (SSA) has made available data on the frequency of baby names from 1880 through the present. [...] As of this writing, the US Social Security Administration makes available data files, one per year, containing the total number of births for each sex/name combination. The raw archive of these files can be obtained from [http://www.ssa.gov/oact/baby names/limits.html](http://www.ssa.gov/oact/baby names/limits.html).\n",
    "\n",
    "___\n",
    "\n"
   ]
  },
  {
   "cell_type": "code",
   "execution_count": null,
   "metadata": {
    "Rmd_chunk_options": "results='hide', message=FALSE, warning=FALSE",
    "autoscroll": false,
    "collapsed": true
   },
   "outputs": [],
   "source": [
    "library(tidyverse)\n",
    "library(magrittr)"
   ]
  },
  {
   "cell_type": "markdown",
   "metadata": {},
   "source": [
    "\n",
    "___\n",
    "\n",
    "## Loading the data\n",
    "\n",
    "This dataset is split by year, so we'll assemble these files into a single dataframe, to which we'll add a new `year` column.\n",
    "\n"
   ]
  },
  {
   "cell_type": "code",
   "execution_count": null,
   "metadata": {
    "Rmd_chunk_options": "message=FALSE",
    "autoscroll": false,
    "collapsed": true
   },
   "outputs": [],
   "source": [
    "years <- c(1880:2010)\n",
    "names <- tibble(\"name\" = NA, \"sex\" = NA, \"births\" = NA, \"year\" = NA)\n",
    "\n",
    "for (year in years) {\n",
    "    path <- str_c(\"../datasets/babynames/yob\", year, \".txt\", sep = \"\")\n",
    "    frame <- read_csv(path, col_names = c(\"name\", \"sex\", \"births\"),\n",
    "                      col_types = cols(col_character(), col_character(), col_integer()))\n",
    "    frame %<>% mutate(\"year\" = year)\n",
    "    names %<>% bind_rows(frame)\n",
    "}\n",
    "names %<>% drop_na()"
   ]
  },
  {
   "cell_type": "code",
   "execution_count": null,
   "metadata": {
    "autoscroll": false,
    "collapsed": true
   },
   "outputs": [],
   "source": [
    "names"
   ]
  },
  {
   "cell_type": "markdown",
   "metadata": {},
   "source": [
    "\n",
    "We can now start aggregating this data by year and sex.\n",
    "\n"
   ]
  },
  {
   "cell_type": "code",
   "execution_count": null,
   "metadata": {
    "autoscroll": false,
    "collapsed": true
   },
   "outputs": [],
   "source": [
    "total_births <- names %>%\n",
    "    group_by(year, sex) %>%\n",
    "    summarise(tot_births = sum(births))"
   ]
  },
  {
   "cell_type": "code",
   "execution_count": null,
   "metadata": {
    "autoscroll": false,
    "collapsed": true
   },
   "outputs": [],
   "source": [
    "total_births"
   ]
  },
  {
   "cell_type": "markdown",
   "metadata": {},
   "source": [
    "\n",
    "\n",
    "Let's plot these data to view the total number of births per sex from 1880.\n",
    "\n"
   ]
  },
  {
   "cell_type": "code",
   "execution_count": null,
   "metadata": {
    "Rmd_chunk_options": "dpi=200",
    "autoscroll": false,
    "collapsed": true
   },
   "outputs": [],
   "source": [
    "total_births %>% ggplot(aes(x = year, y = tot_births, color = sex)) +\n",
    "    geom_line() +\n",
    "    labs(x = \"Year\", y = \"Births\",\n",
    "         title = \"Total number of births per sex\") +\n",
    "    theme(legend.position = c(0.1, 0.86),\n",
    "          legend.background = element_rect(fill = \"transparent\"))"
   ]
  },
  {
   "cell_type": "markdown",
   "metadata": {},
   "source": [
    "\n",
    "Now we'll insert a new column that will contain the proportion of babies with each name relative to the total number of births for a given year.\n",
    "I had a few issues with finding a good way to apply some sort of mapping to the data, as done in the original example in Python, but I'm still quite scratching the surface of the `tidyverse`... I managed to perform a join between the `names` table and one with the total number of births per year and sex, and then calculate the desired ratio from that.\n",
    "\n"
   ]
  },
  {
   "cell_type": "code",
   "execution_count": null,
   "metadata": {
    "autoscroll": false,
    "collapsed": true
   },
   "outputs": [],
   "source": [
    "births_year_sex <- names %>%\n",
    "    group_by(year, sex) %>%\n",
    "    summarise(tot_births = sum(births))\n",
    "\n",
    "names %<>% inner_join(births_year_sex, by = c(\"year\", \"sex\"))"
   ]
  },
  {
   "cell_type": "code",
   "execution_count": null,
   "metadata": {
    "autoscroll": false,
    "collapsed": true
   },
   "outputs": [],
   "source": [
    "names %<>%\n",
    "    mutate(prop = births / tot_births) %>%\n",
    "    select(-tot_births)"
   ]
  },
  {
   "cell_type": "code",
   "execution_count": null,
   "metadata": {
    "autoscroll": false,
    "collapsed": true
   },
   "outputs": [],
   "source": [
    "names"
   ]
  },
  {
   "cell_type": "markdown",
   "metadata": {},
   "source": [
    "\n",
    "\n",
    "Let's subset these data to the top 1000 names for each year/sex combination.\n",
    "\n"
   ]
  },
  {
   "cell_type": "code",
   "execution_count": null,
   "metadata": {
    "autoscroll": false,
    "collapsed": true
   },
   "outputs": [],
   "source": [
    "top1000 <- names %>%\n",
    "    group_by(year, sex) %>%\n",
    "    top_n(1000, wt = births)"
   ]
  },
  {
   "cell_type": "code",
   "execution_count": null,
   "metadata": {
    "autoscroll": false,
    "collapsed": true
   },
   "outputs": [],
   "source": [
    "top1000"
   ]
  },
  {
   "cell_type": "markdown",
   "metadata": {},
   "source": [
    "\n",
    "\n",
    "## Analyzing naming trends\n",
    "\n",
    "Let's first split the `top1000` dataset into boys and girls subsets.\n",
    "\n"
   ]
  },
  {
   "cell_type": "code",
   "execution_count": null,
   "metadata": {
    "autoscroll": false,
    "collapsed": true
   },
   "outputs": [],
   "source": [
    "boys <- top1000 %>%\n",
    "    filter(sex == \"M\")\n",
    "girls <- top1000 %>%\n",
    "    filter(sex == \"F\")"
   ]
  },
  {
   "cell_type": "markdown",
   "metadata": {},
   "source": [
    "\n",
    "We can now plot some data about occurrence of specific names during time.\n",
    "\n"
   ]
  },
  {
   "cell_type": "code",
   "execution_count": null,
   "metadata": {
    "Rmd_chunk_options": "dpi=200",
    "autoscroll": false,
    "collapsed": true
   },
   "outputs": [],
   "source": [
    "top1000 %>%\n",
    "    filter((name == \"John\" & sex == \"M\") | (name == \"Harry\" & sex == \"M\") |\n",
    "           (name == \"Mary\" & sex == \"F\") | (name == \"Marilyn\" & sex == \"F\")) %>%\n",
    "    ggplot(aes(x = year, y = births, color = name)) +\n",
    "    geom_line() +\n",
    "    facet_grid(name ~ ., scales = \"free_y\") +\n",
    "    labs(x = \"Year\", y = \"Births\",\n",
    "         title = \"Number of births per year\",\n",
    "         subtitle = \"John, Harry, Mary, Marilyn\") +\n",
    "    scale_x_continuous(breaks = c(1880, 1900, 1920, 1940, 1960, 1980, 2000)) +\n",
    "    guides(color = FALSE)"
   ]
  },
  {
   "cell_type": "code",
   "execution_count": null,
   "metadata": {
    "Rmd_chunk_options": "dpi=200",
    "autoscroll": false,
    "collapsed": true
   },
   "outputs": [],
   "source": [
    "# (Another useful plot for the same data might be this one. I actually prefer it better.)\n",
    "top1000 %>%\n",
    "    filter((name == \"John\" & sex == \"M\") | (name == \"Harry\" & sex == \"M\") |\n",
    "           (name == \"Mary\" & sex == \"F\") | (name == \"Marilyn\" & sex == \"F\")) %>%\n",
    "    ggplot(aes(x = year, y = births, color = name)) +\n",
    "    geom_line() +\n",
    "    labs(x = \"Year\", y = \"Births\",\n",
    "         title = \"Number of births per year\",\n",
    "         subtitle = \"John, Harry, Mary, Marilyn\") +\n",
    "    scale_x_continuous(breaks = c(1880, 1900, 1920, 1940, 1960, 1980, 2000)) +\n",
    "    theme(legend.position = c(0.92, 0.8),\n",
    "          legend.background = element_rect(fill = \"transparent\"))"
   ]
  },
  {
   "cell_type": "markdown",
   "metadata": {},
   "source": [
    "\n",
    "### Measuring the increase in naming diversity\n",
    "\n",
    "A possible explanation for the dicrease shown in the previous plots is that fewer parents are choosing common names like Harry, John, Mary and Marilyn for their children, during latest years. Let's confirm this hypothesis with actual data.\n",
    "\n",
    "Let's first plot the proportion of the top 1000 names to see their trend.\n",
    "\n"
   ]
  },
  {
   "cell_type": "code",
   "execution_count": null,
   "metadata": {
    "Rmd_chunk_options": "dpi=200",
    "autoscroll": false,
    "collapsed": true
   },
   "outputs": [],
   "source": [
    "top1000 %>%\n",
    "    group_by(year, sex) %>%\n",
    "    summarise(tot_prop = sum(prop)) %>%\n",
    "    ggplot(aes(x = year, y = tot_prop, color = sex)) +\n",
    "    geom_line() +\n",
    "    scale_y_continuous(limits = c(0.0, 1.0)) +\n",
    "    scale_x_continuous(breaks = c(1880, 1900, 1920, 1940, 1960, 1980, 2000)) +\n",
    "    labs(x = \"Year\", y = \"\",\n",
    "         title = \"Sum of proportion of top 1000 common names\") +\n",
    "    theme(legend.position = c(0.94, 0.16),\n",
    "          legend.background = element_rect(fill = \"transparent\"))"
   ]
  },
  {
   "cell_type": "markdown",
   "metadata": {},
   "source": [
    "\n",
    "This plot indeed shows a decrease in using common names roughly starting from the half of the 20^th^ century.\n",
    "Let's now take the number of distinct names, sorted by popularity, in the top 50% of births. We'll start with boys born in 2010.\n",
    "\n"
   ]
  },
  {
   "cell_type": "code",
   "execution_count": null,
   "metadata": {
    "autoscroll": false,
    "collapsed": true
   },
   "outputs": [],
   "source": [
    "df <- boys %>%\n",
    "    filter(year == 2010)\n",
    "df"
   ]
  },
  {
   "cell_type": "code",
   "execution_count": null,
   "metadata": {
    "autoscroll": false,
    "collapsed": true
   },
   "outputs": [],
   "source": [
    "df %<>%\n",
    "    arrange(desc(prop)) %>%\n",
    "    mutate(cumprop = cumsum(prop))\n",
    "sum(df$cumprop <= 0.5)"
   ]
  },
  {
   "cell_type": "markdown",
   "metadata": {},
   "source": [
    "\n",
    "Now we can check the same amount for boys born in 1900.\n",
    "\n"
   ]
  },
  {
   "cell_type": "code",
   "execution_count": null,
   "metadata": {
    "autoscroll": false,
    "collapsed": true
   },
   "outputs": [],
   "source": [
    "df <- boys %>%\n",
    "    filter(year == 1900)\n",
    "df %<>% arrange(desc(prop)) %>%\n",
    "    mutate(cumprop = cumsum(prop))\n",
    "sum(df$cumprop <= 0.5)"
   ]
  },
  {
   "cell_type": "markdown",
   "metadata": {},
   "source": [
    "\n",
    "Let's now apply this operation for every year/sex combination in the `top1000` dataset.\n",
    "\n"
   ]
  },
  {
   "cell_type": "code",
   "execution_count": null,
   "metadata": {
    "autoscroll": false,
    "collapsed": true
   },
   "outputs": [],
   "source": [
    "get_quantile_count <- function(group, q = 0.5) {\n",
    "    group <- group %>% arrange(desc(prop)) %>%\n",
    "        mutate(cumprop = cumsum(prop))\n",
    "\n",
    "    return(sum(group$cumprop <= q))\n",
    "}"
   ]
  },
  {
   "cell_type": "code",
   "execution_count": null,
   "metadata": {
    "autoscroll": false,
    "collapsed": true
   },
   "outputs": [],
   "source": [
    "diversity <- top1000 %>%\n",
    "    group_by(year, sex) %>%\n",
    "    do(count = get_quantile_count(.)) %>%\n",
    "    mutate(count = unlist(count))"
   ]
  },
  {
   "cell_type": "code",
   "execution_count": null,
   "metadata": {
    "autoscroll": false,
    "collapsed": true
   },
   "outputs": [],
   "source": [
    "diversity"
   ]
  },
  {
   "cell_type": "markdown",
   "metadata": {},
   "source": [
    "\n",
    "This new dataframe can be plotted just like before.\n",
    "\n"
   ]
  },
  {
   "cell_type": "code",
   "execution_count": null,
   "metadata": {
    "Rmd_chunk_options": "dpi=200",
    "autoscroll": false,
    "collapsed": true
   },
   "outputs": [],
   "source": [
    "diversity %>%\n",
    "    ggplot(aes(x = year, y = count, color = sex)) +\n",
    "    geom_line() +\n",
    "    scale_x_continuous(breaks = c(1880, 1900, 1920, 1940, 1960, 1980, 2000)) +\n",
    "    labs(x = \"Year\", y = \"Count\",\n",
    "         title = \"Number of popular names in top 50%\") +\n",
    "    theme(legend.position = c(0.1, 0.9),\n",
    "          legend.background = element_rect(fill = \"transparent\"))"
   ]
  },
  {
   "cell_type": "markdown",
   "metadata": {},
   "source": [
    "\n",
    "The plot shows that female names have always been much more diverse than male names, and this is even more evident in recent times.\n",
    "\n",
    "___\n",
    "\n"
   ]
  },
  {
   "cell_type": "code",
   "execution_count": null,
   "metadata": {
    "autoscroll": false,
    "collapsed": true
   },
   "outputs": [],
   "source": [
    "sessionInfo()"
   ]
  },
  {
   "cell_type": "markdown",
   "metadata": {},
   "source": [
    "\n"
   ]
  }
 ],
 "metadata": {
  "Rmd_header": {
   "author": "Roberto Preste",
   "date": "`r Sys.Date()`",
   "editor_options": {
    "chunk_output_type": "inline"
   },
   "output": "github_document",
   "title": "US Baby Names 1880-2010"
  },
  "kernelspec": {
   "display_name": "R",
   "language": "R",
   "name": "ir"
  },
  "language_info": {
   "codemirror_mode": "r",
   "file_extension": ".r",
   "mimetype": "text/x-r-source",
   "name": "R",
   "pygments_lexer": "r"
  }
 },
 "nbformat": 4,
 "nbformat_minor": 0
}
