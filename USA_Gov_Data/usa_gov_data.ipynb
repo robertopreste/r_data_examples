{
 "cells": [
  {
   "cell_type": "markdown",
   "metadata": {},
   "source": [
    "\n",
    "From the book (chapter 14.1):\n",
    "\n",
    "> In 2011, URL shortening service [Bitly](https://bitly.com/) partnered with the US government website [USA.gov](https://www.usa.gov/) to provide a feed of anonymous data gathered from users who shorten links ending with .gov or .mil. In 2011, a live feed as well as hourly snapshots were available as downloadable text files. This service is shut down at the time of this writing (2017)\n",
    "\n",
    "___\n",
    "\n"
   ]
  },
  {
   "cell_type": "code",
   "execution_count": null,
   "metadata": {
    "Rmd_chunk_options": "results='hide', message=FALSE, warning=FALSE",
    "autoscroll": false,
    "collapsed": true
   },
   "outputs": [],
   "source": [
    "library(tidyverse)\n",
    "library(magrittr)\n",
    "library(jsonlite)"
   ]
  },
  {
   "cell_type": "markdown",
   "metadata": {},
   "source": [
    "\n",
    "___\n",
    "\n",
    "## Loading the data\n",
    "\n",
    "The dataset is in [JSON](https://www.json.org) format, so it is imported using the `jsonlite` package. Its `fromJSON` function however does not work in this case, since this is a NDJSON file, meaning that multiple JSON objects are contained in the same file.\n",
    "We will use the `stream_in` function to load the dataset instead.\n",
    "\n"
   ]
  },
  {
   "cell_type": "code",
   "execution_count": null,
   "metadata": {
    "Rmd_chunk_options": "message=FALSE",
    "autoscroll": false,
    "collapsed": true
   },
   "outputs": [],
   "source": [
    "path <- \"../datasets/bitly_usagov/example.txt\"\n",
    "records <- stream_in(file(path))"
   ]
  },
  {
   "cell_type": "markdown",
   "metadata": {},
   "source": [
    "\n",
    "Let's convert the `records` object to a tibble.\n",
    "\n"
   ]
  },
  {
   "cell_type": "code",
   "execution_count": null,
   "metadata": {
    "autoscroll": false,
    "collapsed": true
   },
   "outputs": [],
   "source": [
    "records %<>% as_tibble()"
   ]
  },
  {
   "cell_type": "code",
   "execution_count": null,
   "metadata": {
    "autoscroll": false,
    "collapsed": true
   },
   "outputs": [],
   "source": [
    "records"
   ]
  },
  {
   "cell_type": "markdown",
   "metadata": {},
   "source": [
    "\n",
    "\n",
    "## Counting time zones\n",
    "\n",
    "We may be interested in counting the most often-occurring time zones.\n",
    "\n"
   ]
  },
  {
   "cell_type": "code",
   "execution_count": null,
   "metadata": {
    "autoscroll": false,
    "collapsed": true
   },
   "outputs": [],
   "source": [
    "tz_counts <- records %>%\n",
    "    count(tz)"
   ]
  },
  {
   "cell_type": "code",
   "execution_count": null,
   "metadata": {
    "autoscroll": false,
    "collapsed": true
   },
   "outputs": [],
   "source": [
    "tz_counts"
   ]
  },
  {
   "cell_type": "markdown",
   "metadata": {},
   "source": [
    "\n",
    "\n",
    "There are some missing values, so let's first replace them.\n",
    "\n"
   ]
  },
  {
   "cell_type": "code",
   "execution_count": null,
   "metadata": {
    "autoscroll": false,
    "collapsed": true
   },
   "outputs": [],
   "source": [
    "records %<>%\n",
    "    mutate(tz = replace(tz, tz == \"\", \"Missing\"))\n",
    "records$tz %<>%\n",
    "    replace_na(\"Unknown\")"
   ]
  },
  {
   "cell_type": "code",
   "execution_count": null,
   "metadata": {
    "autoscroll": false,
    "collapsed": true
   },
   "outputs": [],
   "source": [
    "tz_counts <- records %>%\n",
    "    count(tz)"
   ]
  },
  {
   "cell_type": "code",
   "execution_count": null,
   "metadata": {
    "autoscroll": false,
    "collapsed": true
   },
   "outputs": [],
   "source": [
    "tz_counts"
   ]
  },
  {
   "cell_type": "markdown",
   "metadata": {},
   "source": [
    "\n",
    "Now we can sort entries in descending order.\n",
    "\n"
   ]
  },
  {
   "cell_type": "code",
   "execution_count": null,
   "metadata": {
    "autoscroll": false,
    "collapsed": true
   },
   "outputs": [],
   "source": [
    "tz_counts %<>%\n",
    "    arrange(desc(n))"
   ]
  },
  {
   "cell_type": "markdown",
   "metadata": {},
   "source": [
    "\n",
    "Let's plot a bar chart with the first 10 entries from `tz_counts`.\n",
    "\n"
   ]
  },
  {
   "cell_type": "code",
   "execution_count": null,
   "metadata": {
    "Rmd_chunk_options": "dpi=200",
    "autoscroll": false,
    "collapsed": true
   },
   "outputs": [],
   "source": [
    "head(tz_counts, n = 10) %>%\n",
    "    ggplot(aes(x = reorder(tz, n), y = n, fill = tz)) +\n",
    "    geom_col() +\n",
    "    coord_flip() +\n",
    "    guides(fill = F) +\n",
    "    labs(title = \"Top time zones\", x = \"Time zone\", y = \"Count\")"
   ]
  },
  {
   "cell_type": "markdown",
   "metadata": {},
   "source": [
    "\n",
    "Let's parse the `a` column to get some information about the most commonly used browsers.\n",
    "\n"
   ]
  },
  {
   "cell_type": "code",
   "execution_count": null,
   "metadata": {
    "autoscroll": false,
    "collapsed": true
   },
   "outputs": [],
   "source": [
    "records %<>%\n",
    "    mutate(browsers = str_split_fixed(records$a, \" \", n = 2)[, 1])"
   ]
  },
  {
   "cell_type": "code",
   "execution_count": null,
   "metadata": {
    "autoscroll": false,
    "collapsed": true
   },
   "outputs": [],
   "source": [
    "records %>%\n",
    "    count(browsers) %>%\n",
    "    arrange(desc(n))"
   ]
  },
  {
   "cell_type": "markdown",
   "metadata": {},
   "source": [
    "\n",
    "Now we want to decompose time zones into Windows and non-Windows users. We can achieve that by looking at the `a` variable, checking whether it contains the `Windows` string or not. Some of the browser agents are missing, so we'll first drop rows where the `a` column is empty.\n",
    "\n"
   ]
  },
  {
   "cell_type": "code",
   "execution_count": null,
   "metadata": {
    "autoscroll": false,
    "collapsed": true
   },
   "outputs": [],
   "source": [
    "records_notnull <- records %>%\n",
    "    drop_na(a)"
   ]
  },
  {
   "cell_type": "markdown",
   "metadata": {},
   "source": [
    "\n",
    "Then we'll create a new column, `os`, which will contain the `Win` value for Windows users and `NonWin` otherwise.\n",
    "\n"
   ]
  },
  {
   "cell_type": "code",
   "execution_count": null,
   "metadata": {
    "autoscroll": false,
    "collapsed": true
   },
   "outputs": [],
   "source": [
    "records_notnull %<>%\n",
    "    mutate(os = case_when(str_detect(a, \"Windows\") ~ \"Win\",\n",
    "                          TRUE ~ \"NonWin\"))"
   ]
  },
  {
   "cell_type": "markdown",
   "metadata": {},
   "source": [
    "\n",
    "Now we'll aggregate these results to show the count of Windows and non-Windows users for each time zone.\n",
    "\n"
   ]
  },
  {
   "cell_type": "code",
   "execution_count": null,
   "metadata": {
    "autoscroll": false,
    "collapsed": true
   },
   "outputs": [],
   "source": [
    "agg_counts <- records_notnull %>%\n",
    "    group_by(tz, os) %>%\n",
    "    summarise(Users = n()) %>%\n",
    "    spread(os, Users, fill = 0)"
   ]
  },
  {
   "cell_type": "code",
   "execution_count": null,
   "metadata": {
    "autoscroll": false,
    "collapsed": true
   },
   "outputs": [],
   "source": [
    "agg_counts"
   ]
  },
  {
   "cell_type": "markdown",
   "metadata": {},
   "source": [
    "\n",
    "Let's add a `total` column that will be useful to sort our data based on the total number of users; for visualization purposes, we'll take the first 10 entries in this list.\n",
    "\n"
   ]
  },
  {
   "cell_type": "code",
   "execution_count": null,
   "metadata": {
    "autoscroll": false,
    "collapsed": true
   },
   "outputs": [],
   "source": [
    "agg_counts %<>%\n",
    "    mutate(total = sum(NonWin, Win)) %>%\n",
    "    arrange(desc(total))\n",
    "\n",
    "agg_counts_top10 <- agg_counts[1:10, ]"
   ]
  },
  {
   "cell_type": "markdown",
   "metadata": {},
   "source": [
    "\n",
    "In order to visualize these data, let's gather again `Win` and `NonWin` counts per each time zone.\n",
    "\n"
   ]
  },
  {
   "cell_type": "code",
   "execution_count": null,
   "metadata": {
    "autoscroll": false,
    "collapsed": true
   },
   "outputs": [],
   "source": [
    "count_subset <- agg_counts_top10 %>%\n",
    "    gather(key = \"os\", value = \"users\", Win, NonWin) %>%\n",
    "    arrange(tz, users) %>%\n",
    "    select(-total)"
   ]
  },
  {
   "cell_type": "markdown",
   "metadata": {},
   "source": [
    "\n",
    "Now we can plot these data.\n",
    "\n"
   ]
  },
  {
   "cell_type": "code",
   "execution_count": null,
   "metadata": {
    "Rmd_chunk_options": "dpi=200",
    "autoscroll": false,
    "collapsed": true
   },
   "outputs": [],
   "source": [
    "count_subset %>%\n",
    "    ggplot(aes(x = reorder(tz, users), y = users, fill = os)) +\n",
    "    geom_col(position = \"dodge\") +\n",
    "    coord_flip() +\n",
    "    labs(x = \"Time zone\", y = \"Users\",\n",
    "         title = \"Windows and non-Windows users per time zone\", fill = \"OS\") +\n",
    "    theme(legend.position = c(0.9, 0.14),\n",
    "          legend.background = element_rect(fill = \"transparent\"))"
   ]
  },
  {
   "cell_type": "markdown",
   "metadata": {},
   "source": [
    "\n",
    "Let's normalize the count of users so the sum of Windows and non-Windows users is 1.\n",
    "\n"
   ]
  },
  {
   "cell_type": "code",
   "execution_count": null,
   "metadata": {
    "autoscroll": false,
    "collapsed": true
   },
   "outputs": [],
   "source": [
    "count_subset %<>%\n",
    "    group_by(tz, os) %>%\n",
    "    summarise(users = users) %>%\n",
    "    mutate(normed_total = users / sum(users))"
   ]
  },
  {
   "cell_type": "markdown",
   "metadata": {},
   "source": [
    "\n",
    "Now we can plot these normalized data.\n",
    "\n"
   ]
  },
  {
   "cell_type": "code",
   "execution_count": null,
   "metadata": {
    "Rmd_chunk_options": "dpi=200",
    "autoscroll": false,
    "collapsed": true
   },
   "outputs": [],
   "source": [
    "count_subset %>%\n",
    "    ggplot(aes(x = reorder(tz, users), y = normed_total, fill = os)) +\n",
    "    geom_col(position = \"dodge\") +\n",
    "    coord_flip() +\n",
    "    labs(x = \"Time zone\", y = \"User ratio\",\n",
    "         title = \"Windows and non-Windows users ratio per time zone\", fill = \"OS\") +\n",
    "    theme(legend.position = c(0.9, 0.86),\n",
    "          legend.background = element_rect(fill = \"transparent\"))"
   ]
  },
  {
   "cell_type": "markdown",
   "metadata": {},
   "source": [
    "\n",
    "___\n",
    "\n"
   ]
  },
  {
   "cell_type": "code",
   "execution_count": null,
   "metadata": {
    "autoscroll": false,
    "collapsed": true
   },
   "outputs": [],
   "source": [
    "sessionInfo()"
   ]
  },
  {
   "cell_type": "markdown",
   "metadata": {},
   "source": [
    "\n"
   ]
  }
 ],
 "metadata": {
  "Rmd_header": {
   "author": "Roberto Preste",
   "date": "`r Sys.Date()`",
   "editor_options": {
    "chunk_output_type": "inline"
   },
   "output": "github_document",
   "title": "USA.gov Data from Bitly"
  },
  "kernelspec": {
   "display_name": "R",
   "language": "R",
   "name": "ir"
  },
  "language_info": {
   "codemirror_mode": "r",
   "file_extension": ".r",
   "mimetype": "text/x-r-source",
   "name": "R",
   "pygments_lexer": "r"
  }
 },
 "nbformat": 4,
 "nbformat_minor": 0
}
